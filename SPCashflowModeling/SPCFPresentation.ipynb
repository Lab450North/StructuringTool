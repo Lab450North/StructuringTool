{
 "cells": [
  {
   "attachments": {},
   "cell_type": "markdown",
   "metadata": {},
   "source": [
    "#### SP Cashflow Modeling Presentation\n",
    "---\n",
    "#### Contents\n",
    "- basic installment collateral cashflow forecast\n",
    "- pass through\n",
    "- warehouse structuring, scenario analysis, comprehensive analytics visuals\n",
    "- securitization financing structuring, scenario analysis, comprehensive analytics visuals\n"
   ]
  },
  {
   "cell_type": "code",
   "execution_count": 1,
   "metadata": {},
   "outputs": [],
   "source": [
    "from AssetModeling.Asset import Asset\n",
    "from AssetModeling import AssetStore\n",
    "from StructureModeling import StructureStore\n",
    "from DealManager.DealManager import DealManager\n",
    "from Utils.SPCFUtils import SPCFUtils\n",
    "import matplotlib.pyplot as plt\n",
    "import warnings\n",
    "warnings.filterwarnings('ignore')"
   ]
  },
  {
   "attachments": {},
   "cell_type": "markdown",
   "metadata": {},
   "source": [
    "#### Single collateral modeling. show curves, metrics, yield table"
   ]
  },
  {
   "cell_type": "code",
   "execution_count": 2,
   "metadata": {},
   "outputs": [],
   "source": [
    "asset1 = Asset(**AssetStore.ASSETSTORE['consumerLoan70'])"
   ]
  },
  {
   "cell_type": "code",
   "execution_count": null,
   "metadata": {},
   "outputs": [],
   "source": [
    "# asset1.getStaticMetrics() # show static metric\n",
    "# asset1.getDynamicMetrics(['cdrCurve','ltlCurve']) #show curves\n",
    "# asset1.calculateYieldTable(pxList = range(90,100)) #show yield talbe"
   ]
  },
  {
   "cell_type": "markdown",
   "metadata": {},
   "source": [
    "#### ramp up portfolio and showing balance sheet build up and analytics"
   ]
  },
  {
   "cell_type": "code",
   "execution_count": 3,
   "metadata": {},
   "outputs": [],
   "source": [
    "asset1.addRampSchedule(rampSchedule = \"20 for 12\", px = \"100 for 6 98\")"
   ]
  },
  {
   "cell_type": "code",
   "execution_count": 4,
   "metadata": {},
   "outputs": [
    {
     "name": "stdout",
     "output_type": "stream",
     "text": [
      "                 matrics         value\n",
      "0         purchasePeriod  1.200000e+01\n",
      "1   totalPurchaseBalance  2.400000e+08\n",
      "2     totalPurchaseBasis  2.376000e+08\n",
      "3          avgPurchasePx  9.900000e+01\n",
      "4            peakBalance  2.175494e+08\n",
      "5      peakBalancePeriod  1.100000e+01\n",
      "6                    wal  3.277241e+00\n",
      "7        breakevenPeriod  5.000000e+01\n",
      "8               totalPnL  8.160371e+07\n",
      "9                  yield  1.285165e-01\n",
      "10                  moic  1.343450e+00\n"
     ]
    },
    {
     "data": {
      "text/plain": [
       "'\\nfigPageRamp, axPageRamp = plt.subplots(1,3, figsize=(10,4))\\naxPageRamp = axPageRamp.flatten()\\nfor i, metrics in enumerate([\\'periodicNetCF\\',\\'cumulativeCF\\',\\'portfolioBalance\\']):\\n    df = asset1.getDynamicMetrics(metrics = metrics,ramp=True)\\n    if metrics == \"periodicNetCF\":\\n        df.plot.area(x = \"period\", ax = axPageRamp[i], grid = True, title=metrics, stacked = False)\\n    else:\\n        df.plot(x = \"period\", ax = axPageRamp[i], grid = True, title=metrics)\\n\\nplt.tight_layout();plt.show()\\n'"
      ]
     },
     "execution_count": 4,
     "metadata": {},
     "output_type": "execute_result"
    }
   ],
   "source": [
    "print(asset1.getStaticMetrics(ramp=True)) # show static metrices\n",
    "\n",
    "# show curves\n",
    "'''\n",
    "figPageRamp, axPageRamp = plt.subplots(1,3, figsize=(10,4))\n",
    "axPageRamp = axPageRamp.flatten()\n",
    "for i, metrics in enumerate(['periodicNetCF','cumulativeCF','portfolioBalance']):\n",
    "    df = asset1.getDynamicMetrics(metrics = metrics,ramp=True)\n",
    "    if metrics == \"periodicNetCF\":\n",
    "        df.plot.area(x = \"period\", ax = axPageRamp[i], grid = True, title=metrics, stacked = False)\n",
    "    else:\n",
    "        df.plot(x = \"period\", ax = axPageRamp[i], grid = True, title=metrics)\n",
    "\n",
    "plt.tight_layout();plt.show()\n",
    "'''"
   ]
  },
  {
   "attachments": {},
   "cell_type": "markdown",
   "metadata": {},
   "source": [
    "#### Collateral scenarios. Static metrices and curves."
   ]
  },
  {
   "cell_type": "code",
   "execution_count": 5,
   "metadata": {},
   "outputs": [],
   "source": [
    "deal1 = DealManager(dealName = \"plainCollateralDeal\",\n",
    "                    dealDescriptive = {\"dealSubsector\":\"consumer loan\",\n",
    "                                       \"dealSector\":\"Consumer\",\n",
    "                                       \"assetOriginator\":\"SuperLoan\"                                       \n",
    "                        },\n",
    "                    dealMisc = {\"upfrontFees\": 1e6},\n",
    "                    assetScenarios = {\"base\": asset1},                    \n",
    "                    )\n",
    "deal1.copyAssetWithNewAssumption(\"base\", \"frontLoad\", {\"defaultTimingCurve\": SPCFUtils.timingCurveParse(\"32/32/15\", term = TERM)})\n",
    "deal1.copyAssetWithNewAssumption(\"base\", \"backLoad\", {\"defaultTimingCurve\": SPCFUtils.timingCurveParse(\"10/10/10\", term = TERM)})\n"
   ]
  },
  {
   "cell_type": "code",
   "execution_count": null,
   "metadata": {},
   "outputs": [],
   "source": [
    "# print(deal1.getAssetStaticMetrics(pxList = range(100, 89, -1))) # show static metrices\n",
    "# show curves\n",
    "# figPageCollatCurve, axPageCollatCurve = plt.subplots(2,3, figsize=(10,8))\n",
    "# axPageCollatCurve = axPageCollatCurve.flatten()\n",
    "# for i, metrics in enumerate(['cdrCurve','cprCurve','dqCurve', 'factorCurve', 'cnlCurve', 'ltlCurve']):\n",
    "#     deal1.getAssetDynamicMetrics(metrics).plot(x = \"period\", ax = axPageCollatCurve[i], grid = True, title=metrics)\n",
    "\n",
    "# plt.tight_layout();plt.show()\n"
   ]
  },
  {
   "cell_type": "markdown",
   "metadata": {},
   "source": [
    "#### Pass-through (0 adv rate ABS structure). Bake in deal fees, and show economics under different assumption"
   ]
  },
  {
   "cell_type": "code",
   "execution_count": null,
   "metadata": {},
   "outputs": [],
   "source": [
    "\n",
    "\n",
    "FinancingTerm = StructureStore.STRUCTURESTORE['PT']\n",
    "deal2 = DealManager(dealName = \"PTDeal\",\n",
    "                    dealDescriptive = {\"dealSubsector\":\"subprime auto\",\n",
    "                                       \"dealSector\":\"Consumer\",\n",
    "                                       \"assetOriginator\":\"SuperLoan\"                                       \n",
    "                        },\n",
    "                    dealMisc = {\"upfrontFees\": 1e6},\n",
    "                    assetScenarios = {\"base\": AssetStore.ASSETSTORE['autoLoan45']},\n",
    "                    financingTerms = FinancingTerm\n",
    "                    )\n",
    "\n",
    "deal2.copyAssetWithNewAssumption(\"base\", \"frontLoad\", {\"defaultTimingCurve\": SPCFUtils.timingCurveParse(\"37/37/20\", term = 45)})\n",
    "deal2.copyAssetWithNewAssumption(\"base\", \"backLoad\", {\"defaultTimingCurve\": SPCFUtils.timingCurveParse(\"10/10/10\", term = 45)})\n",
    "\n",
    "print(deal2.getAssetStaticMetrics())\n",
    "print(\"*\" * 50)\n",
    "print(deal2.getStructureStaticMetrics())\n"
   ]
  },
  {
   "cell_type": "markdown",
   "metadata": {},
   "source": [
    "#### A/B cut. (70/30 ABS Structure). single tranche term ABS."
   ]
  },
  {
   "cell_type": "code",
   "execution_count": null,
   "metadata": {},
   "outputs": [],
   "source": [
    "\n",
    "\n",
    "dealABCut = DealManager(dealName = \"ABCutonConsumerLoan\",\n",
    "                    dealDescriptive = {\"dealSubsector\":\"consumer loan\",\n",
    "                                       \"dealSector\":\"Consumer\",\n",
    "                                       \"assetOriginator\":\"SuperLoan\"                                       \n",
    "                        },\n",
    "                    dealMisc = {\"upfrontFees\": 1e6},\n",
    "                    assetScenarios = {\"base\": AssetStore.ASSETSTORE['consumerLoan58']},\n",
    "                    financingTerms = StructureStore.STRUCTURESTORE['ABCut']\n",
    "                    )\n",
    "\n",
    "dealABCut.copyAssetWithNewAssumption(\"base\", \"frontLoad\", {\"defaultTimingCurve\": SPCFUtils.timingCurveParse(\"50/35/10\", term = 58)})\n",
    "dealABCut.copyAssetWithNewAssumption(\"base\", \"backLoad\", {\"defaultTimingCurve\": SPCFUtils.timingCurveParse(\"10/10/10\", term = 58)})\n",
    "dealABCut.addSeriesDefaultScenario(startingMultiple=1.0, endingMultiple=2.5, step=0.25)\n",
    "\n",
    "print(dealABCut.getCapitalStack())\n",
    "print(\"*\" * 100)\n",
    "print(dealABCut.getAssetStaticMetrics(pxList = range(100, 89, -1)))\n",
    "print(\"*\" * 100)\n",
    "print(dealABCut.getStructureStaticMetrics())\n",
    "print(\"*\" * 100)\n",
    "print(dealABCut.getAssetStaticMetrics(ramp = True))\n",
    "\n",
    "# figPageCollat, axPageCollat = plt.subplots(2,3, figsize=(10,4))\n",
    "# axPageCollat = axPageCollat.flatten()\n",
    "# for i, metrics in enumerate(['cdrCurve','cprCurve','sevCurve','dqCurve','cnlCurve','factorCurve']):\n",
    "#     df = dealABCut.getAssetDynamicMetrics(metrics)\n",
    "#     df.plot(x = \"period\", ax = axPageCollat[i], grid = True, title=metrics)\n",
    "# plt.tight_layout();plt.show()\n"
   ]
  },
  {
   "cell_type": "markdown",
   "metadata": {},
   "source": [
    "#### securitization financing structuring, scenario analysis, comprehensive analytics visuals"
   ]
  },
  {
   "cell_type": "code",
   "execution_count": null,
   "metadata": {},
   "outputs": [],
   "source": []
  },
  {
   "attachments": {},
   "cell_type": "markdown",
   "metadata": {},
   "source": [
    "#### warehouse structuring, scenario analysis, comprehensive analytics visuals"
   ]
  },
  {
   "cell_type": "code",
   "execution_count": null,
   "metadata": {},
   "outputs": [],
   "source": []
  }
 ],
 "metadata": {
  "kernelspec": {
   "display_name": "Python 3",
   "language": "python",
   "name": "python3"
  },
  "language_info": {
   "codemirror_mode": {
    "name": "ipython",
    "version": 3
   },
   "file_extension": ".py",
   "mimetype": "text/x-python",
   "name": "python",
   "nbconvert_exporter": "python",
   "pygments_lexer": "ipython3",
   "version": "3.10.6"
  },
  "orig_nbformat": 4
 },
 "nbformat": 4,
 "nbformat_minor": 2
}
