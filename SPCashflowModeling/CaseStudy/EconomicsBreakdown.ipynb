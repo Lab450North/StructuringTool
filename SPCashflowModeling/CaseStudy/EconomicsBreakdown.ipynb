{
 "cells": [
  {
   "cell_type": "code",
   "execution_count": null,
   "metadata": {},
   "outputs": [],
   "source": [
    "# simulate portfolio performance\n",
    "# calcualte realized irr; back of envelope calculation irr\n",
    "# irr interpretation"
   ]
  },
  {
   "cell_type": "code",
   "execution_count": 70,
   "metadata": {},
   "outputs": [],
   "source": [
    "import pandas as pd\n",
    "import numpy as np\n",
    "import sys\n",
    "import numpy_financial as npf\n",
    "sys.path.append('..') \n",
    "from AssetModeling.Asset import Asset\n",
    "from Utils.SPCFUtils import SPCFUtils\n",
    "import warnings\n",
    "warnings.filterwarnings('ignore')"
   ]
  },
  {
   "cell_type": "code",
   "execution_count": 116,
   "metadata": {},
   "outputs": [],
   "source": [
    "notionalStore = np.arange(5000, 50000, 300)\n",
    "termStore = [36, 60 ,72]\n",
    "intRateStore = np.arange(0.1, 0.3, 0.01)\n",
    "\n",
    "cdrVectorStringStore = [\"0 ramp 7 11\",\n",
    "                        \"0 ramp 10 20 20 ramp 6 15\",\n",
    "                        \"0 ramp 15 18\",\n",
    "                        \"0 ramp 16 13 13 for 5 13 ramp 6 18\"\n",
    "                        ]\n",
    "\n",
    "cprVectorStringStore = [\"10 ramp 12 7\",\n",
    "                        \"8\",\n",
    "                        \"10\"\n",
    "                        ]\n",
    "\n",
    "sevVectorStringStore = [\"99 ramp 6 92\",\n",
    "                        \"99 ramp 15 85\"\n",
    "                        ]\n",
    "\n",
    "dqVectorStringStore = [\"0 ramp 7 11\",\n",
    "                       \"0 ramp 12 14\",\n",
    "                       \"0 ramp 14 12\",\n",
    "                       \"0 ramp 8 16 16 ramp 6 13\",\n",
    "                       ]\n",
    "\n",
    "assetContainer = []\n",
    "\n",
    "for i in range(0,5000):\n",
    "    notional = np.random.choice(notionalStore)\n",
    "    term = np.random.choice(termStore)\n",
    "    intRate = np.random.choice(intRateStore)\n",
    "    cdrVectorString = np.random.choice(cdrVectorStringStore)\n",
    "    cprVectorString = np.random.choice(cprVectorStringStore)\n",
    "    sevVectorString = np.random.choice(sevVectorStringStore)\n",
    "    dqVectorString = np.random.choice(dqVectorStringStore)\n",
    "    assetKwargs = SPCFUtils.convertToDict(    \n",
    "    assetType = \"Amortization\",\n",
    "    notional = notional, term = term,intRate = 0.2175,\n",
    "    cdrVector = SPCFUtils.convertIntexRamp(cdrVectorString, term = term, divisor = 100),\n",
    "    cprVector = SPCFUtils.convertIntexRamp(cprVectorString, term = term, divisor = 100),\n",
    "    sevVector = SPCFUtils.convertIntexRamp(sevVectorString, term = term, divisor = 100),\n",
    "    dqVector = SPCFUtils.convertIntexRamp(dqVectorString, term = term, divisor = 100),\n",
    "    servicingFeesRatio = 0.005)\n",
    "    assetContainer.append(Asset(**assetKwargs))\n",
    "    "
   ]
  },
  {
   "cell_type": "code",
   "execution_count": 117,
   "metadata": {},
   "outputs": [],
   "source": [
    "portfolioNotional = sum([asset.notional for asset in assetContainer])\n",
    "portfolioWAC = sum([asset.notional * asset.intRate for asset in assetContainer]) / portfolioNotional\n",
    "portfolioTerm = sum([asset.notional * asset.term for asset in assetContainer]) / portfolioNotional\n",
    "\n",
    "aggregateCashflow = pd.concat([asset.cashflow for asset in assetContainer])\n",
    "aggregateCashflow = aggregateCashflow.groupby('period').sum().reset_index()\n",
    "\n",
    "aggregateCashflow.loc[:, \"periodYears\"] = np.floor_divide(aggregateCashflow.loc[:, \"period\"]-1, 12) + 1\n",
    "aggregateCashflow[\"cumulativeInvestmentCash\"] = aggregateCashflow[\"investmentCash\"].cumsum()\n",
    "\n",
    "aggregateCashflow[\"cumulativeDefaultPrin\"] = aggregateCashflow[\"defaultPrin\"].cumsum()\n",
    "aggregateCashflow[\"cumulativeLossPrin\"] = aggregateCashflow[\"lossPrin\"].cumsum()\n",
    "\n",
    "aggregateCashflow[\"cgl\"] = aggregateCashflow[\"cumulativeDefaultPrin\"] / portfolioNotional\n",
    "aggregateCashflow[\"cnl\"] = aggregateCashflow[\"cumulativeLossPrin\"] / portfolioNotional\n",
    "\n",
    "aggregateCashflow[\"balFactor\"] = aggregateCashflow[\"eopBal\"] / portfolioNotional\n",
    "\n",
    "aggregateCashflow[\"dqVector\"] = aggregateCashflow[\"dqBal\"] / aggregateCashflow[\"bopBal\"]"
   ]
  },
  {
   "cell_type": "code",
   "execution_count": 118,
   "metadata": {},
   "outputs": [],
   "source": [
    "aggregateCashflow = aggregateCashflow[['period',\n",
    "                                       'periodYears',\n",
    "                                       'dqVector',\n",
    "                                       'balFactor',\n",
    "                                       'bopBal',\n",
    "                                       'prinCF',\n",
    "                                       'eopBal',\n",
    "                                       'totalCF',\n",
    "                                       'cumulativeDefaultPrin',\n",
    "                                       'cumulativeLossPrin',\n",
    "                                       'cgl',\n",
    "                                       'cnl'\n",
    "                                       ]]"
   ]
  },
  {
   "cell_type": "markdown",
   "metadata": {},
   "source": [
    "# Hold to Maturity"
   ]
  },
  {
   "cell_type": "code",
   "execution_count": 119,
   "metadata": {},
   "outputs": [
    {
     "name": "stdout",
     "output_type": "stream",
     "text": [
      "\n",
      " portfolioNotional:  137079700 \n",
      " Term:  56.20100423330369 \n",
      " WAC:  0.2175 \n",
      " WAL:  2.0721605360414928 \n",
      " CGL:  0.24988957959546035 \n",
      " CNL:  0.22377341163482226 \n",
      " Servicing:  0.005 \n",
      " Avg DQ:  0.10052524494650411 \n",
      " PnL (assuming Par):  21684955.650266916 \n",
      " MOIC (assuming Par):  1.1581923191418344 \n",
      "\n"
     ]
    }
   ],
   "source": [
    "wal = sum(aggregateCashflow[\"prinCF\"] * aggregateCashflow[\"period\"]) / sum(aggregateCashflow[\"prinCF\"]) / 12.0\n",
    "cgl = aggregateCashflow[\"cgl\"].iloc[-1]\n",
    "cnl = aggregateCashflow[\"cnl\"].iloc[-1]\n",
    "avgDq = sum(aggregateCashflow.iloc[1:][\"dqVector\"] * aggregateCashflow.iloc[1:][\"eopBal\"]) / sum(aggregateCashflow.iloc[1:][\"eopBal\"])\n",
    "pnl = sum(aggregateCashflow[\"totalCF\"]) - portfolioNotional\n",
    "moic = 1.0 + pnl / portfolioNotional\n",
    "servicing = 0.005\n",
    "print(\n",
    "      '\\n',\n",
    "      'portfolioNotional: ', portfolioNotional, '\\n',\n",
    "      'Term: ', portfolioTerm, '\\n',\n",
    "      'WAC: ', portfolioWAC, '\\n',\n",
    "      'WAL: ', wal, '\\n',\n",
    "      \"CGL: \", cgl, '\\n',\n",
    "      \"CNL: \", cnl, '\\n',\n",
    "      \"Servicing: \", servicing, '\\n',\n",
    "      \"Avg DQ: \", avgDq,'\\n',\n",
    "      \"PnL (assuming Par): \", pnl , '\\n',\n",
    "      \"MOIC (assuming Par): \", moic,  '\\n',\n",
    ")"
   ]
  },
  {
   "cell_type": "code",
   "execution_count": 148,
   "metadata": {},
   "outputs": [
    {
     "name": "stdout",
     "output_type": "stream",
     "text": [
      "    purchasePx       irr  proxyIrr\n",
      "0         90.0  0.145114  0.182645\n",
      "1         91.0  0.138256  0.172645\n",
      "2         92.0  0.131521  0.162645\n",
      "3         93.0  0.124907  0.152645\n",
      "4         94.0  0.118410  0.142645\n",
      "5         95.0  0.112026  0.132645\n",
      "6         96.0  0.105751  0.122645\n",
      "7         97.0  0.099583  0.112645\n",
      "8         98.0  0.093519  0.102645\n",
      "9         99.0  0.087555  0.092645\n",
      "10       100.0  0.081688  0.082645\n",
      "11       101.0  0.075917  0.072645\n",
      "12       102.0  0.070238  0.062645\n",
      "13       103.0  0.064649  0.052645\n",
      "14       104.0  0.059147  0.042645\n",
      "15       105.0  0.053730  0.032645\n",
      "16       106.0  0.048397  0.022645\n",
      "17       107.0  0.043143  0.012645\n",
      "18       108.0  0.037969  0.002645\n",
      "19       109.0  0.032870 -0.007355\n"
     ]
    }
   ],
   "source": [
    "df = pd.DataFrame(columns = [\"purchasePx\", \"irr\", \"proxyIrr\"])\n",
    "for purchasePx in range(90, 110, 1):\n",
    "    aggregateCashflow[\"purchaseCash\"] = np.concatenate([np.array([portfolioNotional * purchasePx / 100.0]), np.array([0] * (aggregateCashflow.shape[0] - 1))])\n",
    "    aggregateCashflow[\"investmentCash\"] = - aggregateCashflow[\"purchaseCash\"] + aggregateCashflow[\"totalCF\"]\n",
    "    # further from par, the proxy is less accurate\n",
    "    df.loc[len(df)] = [purchasePx, \n",
    "                       npf.irr(aggregateCashflow[\"investmentCash\"].values) * 12,\n",
    "                       (portfolioWAC * (1 - avgDq) - servicing - cnl / wal) + (100 - purchasePx) / 100.0]\n",
    "print(df)"
   ]
  },
  {
   "cell_type": "markdown",
   "metadata": {},
   "source": [
    "# Hold and Sell"
   ]
  },
  {
   "cell_type": "code",
   "execution_count": 203,
   "metadata": {},
   "outputs": [],
   "source": [
    "purchasePx = 100\n",
    "sellPx = 98\n",
    "sellPeriod = 25\n",
    "\n",
    "aggregateCashflow[\"purchaseCash\"] = 0\n",
    "aggregateCashflow[\"purchaseCash\"] = np.concatenate([np.array([portfolioNotional * purchasePx / 100.0]), np.array([0] * (aggregateCashflow.shape[0] - 1))])\n",
    "aggregateCashflow[\"sellCash\"] = np.concatenate([np.array([0] * (sellPeriod)), np.array([aggregateCashflow.loc[sellPeriod, 'eopBal'] * sellPx / 100.0]), np.array([0] * (aggregateCashflow.shape[0] - sellPeriod-1))])\n",
    "holdSellCashflow = aggregateCashflow.loc[:25,:]\n",
    "holdSellCashflow.loc[:, \"allPrinCF\"] = holdSellCashflow[\"prinCF\"] + holdSellCashflow[\"sellCash\"]"
   ]
  },
  {
   "cell_type": "code",
   "execution_count": 205,
   "metadata": {},
   "outputs": [
    {
     "name": "stdout",
     "output_type": "stream",
     "text": [
      "\n",
      " portfolioNotional:  137079700 \n",
      " PurchasePx:  100 \n",
      " sellPx:  98 \n",
      " sellPeriod:  25 \n",
      " Term:  56.20100423330369 \n",
      " WAC:  0.2175 \n",
      " WAL:  1.5371232323019868 \n",
      " CGL:  0.1608218544560784 \n",
      " CNL:  0.1449024821623062 \n",
      " Servicing:  0.005 \n",
      " Avg DQ:  0.09251786546861768 \n",
      " PnL:  17880674.217812717 \n",
      " MOIC:  1.1304399865028354 \n",
      "\n"
     ]
    }
   ],
   "source": [
    "\n",
    "wal = sum(holdSellCashflow[\"allPrinCF\"] * holdSellCashflow[\"period\"]) / sum(holdSellCashflow[\"allPrinCF\"]) / 12.0\n",
    "cgl = holdSellCashflow[\"cgl\"].iloc[-1]\n",
    "cnl = holdSellCashflow[\"cnl\"].iloc[-1]\n",
    "avgDq = sum(holdSellCashflow.iloc[1:][\"dqVector\"] * holdSellCashflow.iloc[1:][\"eopBal\"]) / sum(holdSellCashflow.iloc[1:][\"eopBal\"])\n",
    "pnl = sum(holdSellCashflow[\"totalCF\"]) + sum(holdSellCashflow[\"sellCash\"]) - sum(holdSellCashflow[\"purchaseCash\"])\n",
    "moic = 1.0 + pnl / sum(holdSellCashflow[\"purchaseCash\"])\n",
    "servicing = 0.005\n",
    "print(\n",
    "      '\\n',\n",
    "      'portfolioNotional: ', portfolioNotional, '\\n',\n",
    "      \"PurchasePx: \", purchasePx, '\\n',\n",
    "      \"sellPx: \", sellPx, '\\n',\n",
    "      \"sellPeriod: \", sellPeriod, '\\n',\n",
    "      'Term: ', portfolioTerm, '\\n',\n",
    "      'WAC: ', portfolioWAC, '\\n',\n",
    "      'WAL: ', wal, '\\n',\n",
    "      \"CGL: \", cgl, '\\n',\n",
    "      \"CNL: \", cnl, '\\n',\n",
    "      \"Servicing: \", servicing, '\\n',\n",
    "      \"Avg DQ: \", avgDq,'\\n',\n",
    "      \"PnL: \", pnl , '\\n',\n",
    "      \"MOIC: \", moic,  '\\n',\n",
    ")"
   ]
  },
  {
   "cell_type": "code",
   "execution_count": 207,
   "metadata": {},
   "outputs": [
    {
     "name": "stdout",
     "output_type": "stream",
     "text": [
      "irr:  0.09068920419881898\n",
      "proxy irr:  0.0927427568151302\n"
     ]
    }
   ],
   "source": [
    "holdSellCashflow[\"investmentCash\"] = - aggregateCashflow[\"purchaseCash\"] + aggregateCashflow[\"totalCF\"] + holdSellCashflow[\"sellCash\"]\n",
    "\n",
    "print(\"irr: \", npf.irr(holdSellCashflow[\"investmentCash\"].values) * 12)\n",
    "\n",
    "print(\"proxy irr: \", (portfolioWAC * (1 - avgDq) - servicing - cnl / wal) \\\n",
    "    - (100 - sellPx) / 100.0  * holdSellCashflow[\"balFactor\"].iloc[-1] / wal)"
   ]
  }
 ],
 "metadata": {
  "kernelspec": {
   "display_name": "Python 3",
   "language": "python",
   "name": "python3"
  },
  "language_info": {
   "codemirror_mode": {
    "name": "ipython",
    "version": 3
   },
   "file_extension": ".py",
   "mimetype": "text/x-python",
   "name": "python",
   "nbconvert_exporter": "python",
   "pygments_lexer": "ipython3",
   "version": "3.10.12"
  },
  "orig_nbformat": 4
 },
 "nbformat": 4,
 "nbformat_minor": 2
}
